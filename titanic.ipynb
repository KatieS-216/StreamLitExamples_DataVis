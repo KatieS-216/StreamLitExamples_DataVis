{
  "nbformat": 4,
  "nbformat_minor": 0,
  "metadata": {
    "colab": {
      "provenance": [],
      "authorship_tag": "ABX9TyNuLC4FlIi34cwAkZo4eBgM"
    },
    "kernelspec": {
      "name": "python3",
      "display_name": "Python 3"
    },
    "language_info": {
      "name": "python"
    }
  },
  "cells": [
    {
      "cell_type": "code",
      "execution_count": 8,
      "metadata": {
        "colab": {
          "base_uri": "https://localhost:8080/",
          "height": 445
        },
        "id": "FuT5d8tVvdwZ",
        "outputId": "c8f600c3-3c1f-42f9-eef5-bcf7a5250436"
      },
      "outputs": [
        {
          "output_type": "error",
          "ename": "ValueError",
          "evalue": "ignored",
          "traceback": [
            "\u001b[0;31m---------------------------------------------------------------------------\u001b[0m",
            "\u001b[0;31mModuleNotFoundError\u001b[0m                       Traceback (most recent call last)",
            "\u001b[0;32m/usr/local/lib/python3.9/dist-packages/altair/vegalite/v4/api.py\u001b[0m in \u001b[0;36mshow\u001b[0;34m(self, embed_opt, open_browser)\u001b[0m\n\u001b[1;32m   1788\u001b[0m         \u001b[0;32mtry\u001b[0m\u001b[0;34m:\u001b[0m\u001b[0;34m\u001b[0m\u001b[0;34m\u001b[0m\u001b[0m\n\u001b[0;32m-> 1789\u001b[0;31m             \u001b[0;32mimport\u001b[0m \u001b[0maltair_viewer\u001b[0m  \u001b[0;31m# type: ignore\u001b[0m\u001b[0;34m\u001b[0m\u001b[0;34m\u001b[0m\u001b[0m\n\u001b[0m\u001b[1;32m   1790\u001b[0m         \u001b[0;32mexcept\u001b[0m \u001b[0mImportError\u001b[0m\u001b[0;34m:\u001b[0m\u001b[0;34m\u001b[0m\u001b[0;34m\u001b[0m\u001b[0m\n",
            "\u001b[0;31mModuleNotFoundError\u001b[0m: No module named 'altair_viewer'",
            "\nDuring handling of the above exception, another exception occurred:\n",
            "\u001b[0;31mValueError\u001b[0m                                Traceback (most recent call last)",
            "\u001b[0;32m<ipython-input-8-99f78a45af61>\u001b[0m in \u001b[0;36m<cell line: 32>\u001b[0;34m()\u001b[0m\n\u001b[1;32m     30\u001b[0m ).interactive()\n\u001b[1;32m     31\u001b[0m \u001b[0;34m\u001b[0m\u001b[0m\n\u001b[0;32m---> 32\u001b[0;31m \u001b[0mhist_fare\u001b[0m\u001b[0;34m.\u001b[0m\u001b[0mshow\u001b[0m\u001b[0;34m(\u001b[0m\u001b[0;34m)\u001b[0m\u001b[0;34m\u001b[0m\u001b[0;34m\u001b[0m\u001b[0m\n\u001b[0m",
            "\u001b[0;32m/usr/local/lib/python3.9/dist-packages/altair/vegalite/v4/api.py\u001b[0m in \u001b[0;36mshow\u001b[0;34m(self, embed_opt, open_browser)\u001b[0m\n\u001b[1;32m   1789\u001b[0m             \u001b[0;32mimport\u001b[0m \u001b[0maltair_viewer\u001b[0m  \u001b[0;31m# type: ignore\u001b[0m\u001b[0;34m\u001b[0m\u001b[0;34m\u001b[0m\u001b[0m\n\u001b[1;32m   1790\u001b[0m         \u001b[0;32mexcept\u001b[0m \u001b[0mImportError\u001b[0m\u001b[0;34m:\u001b[0m\u001b[0;34m\u001b[0m\u001b[0;34m\u001b[0m\u001b[0m\n\u001b[0;32m-> 1791\u001b[0;31m             raise ValueError(\n\u001b[0m\u001b[1;32m   1792\u001b[0m                 \u001b[0;34m\"show() method requires the altair_viewer package. \"\u001b[0m\u001b[0;34m\u001b[0m\u001b[0;34m\u001b[0m\u001b[0m\n\u001b[1;32m   1793\u001b[0m                 \u001b[0;34m\"See http://github.com/altair-viz/altair_viewer\"\u001b[0m\u001b[0;34m\u001b[0m\u001b[0;34m\u001b[0m\u001b[0m\n",
            "\u001b[0;31mValueError\u001b[0m: show() method requires the altair_viewer package. See http://github.com/altair-viz/altair_viewer"
          ]
        }
      ],
      "source": [
        "import pandas as pd\n",
        "import altair as alt\n",
        "import streamlit as st\n",
        "\n",
        "data = pd.read_csv('https://raw.githubusercontent.com/datasciencedojo/datasets/master/titanic.csv')\n",
        "\n",
        "# data.sample(10)\n",
        "\n",
        "st.set_page_config(page_title=\"Titanic Data\", layout=\"wide\")\n",
        "\n",
        "# CHART 1 - HISTOGRAM OF CLASS\n",
        "\n",
        "hist_class = alt.Chart(data).mark_bar().encode(\n",
        "    alt.X(\"Class:Q\", bin=True),\n",
        "    y='count'\n",
        ")\n",
        "\n",
        "# CHART 2 - SCATTERPLOT OF CLASS & FARE\n",
        "\n",
        "scatter_class = alt.Chart(data).mark_circle().encode(\n",
        "    x='Pclass',\n",
        "    y='Fare',\n",
        "    color = 'Survived',\n",
        "    tooltip = ['Age','Fare','Survived','Name']\n",
        ")\n",
        "\n",
        "# CHART 3 - FARE\n",
        "\n",
        "hist_fare = alt.Chart(data).mark_bar().encode(\n",
        "    alt.X(\"Fare:Q\", bin=True),\n",
        "    y='count'\n",
        ").interactive()\n"
      ]
    }
  ]
}